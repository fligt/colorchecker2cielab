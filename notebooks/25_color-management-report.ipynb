{
 "cells": [
  {
   "cell_type": "raw",
   "id": "cc57d7ef-c084-4c76-98a4-c078537cf13f",
   "metadata": {},
   "source": [
    "---\n",
    "skip_exec: true\n",
    "---"
   ]
  },
  {
   "cell_type": "markdown",
   "id": "fd561f4f-2589-4d43-82b1-a0835d32db1e",
   "metadata": {},
   "source": [
    "# Color management performance \n",
    "\n",
    "> How low can you go? "
   ]
  },
  {
   "cell_type": "markdown",
   "id": "ff286fe3-9cda-4c1d-99c2-3d97ca7d18b7",
   "metadata": {},
   "source": []
  }
 ],
 "metadata": {
  "kernelspec": {
   "display_name": "python3",
   "language": "python",
   "name": "python3"
  }
 },
 "nbformat": 4,
 "nbformat_minor": 5
}
