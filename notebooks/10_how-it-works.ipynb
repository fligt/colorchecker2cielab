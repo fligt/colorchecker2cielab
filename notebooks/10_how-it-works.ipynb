{
 "cells": [
  {
   "cell_type": "raw",
   "id": "a0b6e43a-8a55-4500-aa92-b1a287cba4e8",
   "metadata": {},
   "source": [
    "---\n",
    "skip_exec: true\n",
    "---"
   ]
  },
  {
   "cell_type": "code",
   "execution_count": null,
   "id": "c5ebdb00-8883-49dd-ac8c-3b872273ede5",
   "metadata": {},
   "outputs": [],
   "source": [
    "#|default_exp utils"
   ]
  },
  {
   "cell_type": "markdown",
   "id": "323f27ce-7514-4080-8db5-a2f1e2d4f3f0",
   "metadata": {},
   "source": [
    "# How it works - Part 1\n",
    "\n",
    "> A bit of image processing "
   ]
  },
  {
   "cell_type": "markdown",
   "id": "4396d6e7-ff0d-4d46-9e27-899444ea55d2",
   "metadata": {},
   "source": [
    "## Extracting color patches "
   ]
  },
  {
   "cell_type": "markdown",
   "id": "6fe2fd0b-b158-4a4d-abb7-e244aba819a0",
   "metadata": {},
   "source": [
    "Let's see if we can open the TIF and extract the RGB values for each color patch.  "
   ]
  },
  {
   "cell_type": "code",
   "execution_count": null,
   "id": "443dd5d7-3780-482e-8960-3f518a62f7f5",
   "metadata": {},
   "outputs": [],
   "source": [
    "from colorchecker2cielab import extract_color_patches"
   ]
  },
  {
   "cell_type": "code",
   "execution_count": null,
   "id": "f73bd37a-9c3d-4128-81c5-e3f4cdd8b193",
   "metadata": {},
   "outputs": [],
   "source": [
    "tif_file = '/home/frank/Work/DATA/colorchecker2cielab-data/sk-C-1833_135MB.tif'"
   ]
  },
  {
   "cell_type": "code",
   "execution_count": null,
   "id": "a68dfa28-3349-487a-be01-a6812241f6d8",
   "metadata": {},
   "outputs": [
    {
     "data": {
      "text/html": [
       "..",
       "<img src=\"./images/10_how-it-works_3601295e4d.png\">"
      ]
     },
     "execution_count": null,
     "metadata": {},
     "output_type": "execute_result"
    }
   ],
   "source": [
    "rectangles, RGBs = extract_color_patches(tif_file)"
   ]
  },
  {
   "cell_type": "markdown",
   "id": "20f3c0d8-565e-4452-ba0f-9c149e3e7a8f",
   "metadata": {},
   "source": [
    "## Computing CIELAB values "
   ]
  },
  {
   "cell_type": "markdown",
   "id": "64b1b5f6-05b7-475d-90ea-a1a58b366fa9",
   "metadata": {},
   "source": [
    "Ok, now up to the next question. How do these RGB values translate into CIELAB? \n",
    "\n",
    "https://www.color.org/ecirgb.pdf"
   ]
  },
  {
   "cell_type": "code",
   "execution_count": null,
   "id": "e7c55be1-559b-41db-8d83-f854ad8618f6",
   "metadata": {},
   "outputs": [],
   "source": [
    "import colour"
   ]
  },
  {
   "cell_type": "code",
   "execution_count": null,
   "id": "219ea66f-994a-45e8-9020-d90310d0c8e2",
   "metadata": {},
   "outputs": [
    {
     "data": {
      "text/plain": [
       "RGB_Colourspace('ECI RGB v2',\n",
       "                [[ 0.67010309,  0.32989691],\n",
       "                 [ 0.20990566,  0.70990566],\n",
       "                 [ 0.14006179,  0.08032956]],\n",
       "                [ 0.3457,  0.3585],\n",
       "                'D50',\n",
       "                [[ 0.65032438,  0.177949  ,  0.13602229],\n",
       "                 [ 0.3201597 ,  0.60182752,  0.07801279],\n",
       "                 [ 0.        ,  0.06798052,  0.75712409]],\n",
       "                [[ 1.78215602, -0.49656317, -0.26901095],\n",
       "                 [-0.95923427,  1.94844461, -0.02843173],\n",
       "                 [ 0.08612755, -0.17494658,  1.32334029]],\n",
       "                functools.partial(<function _scale_domain_0_100_range_0_1>, callable_=<function lightness_CIE1976>),\n",
       "                functools.partial(<function _scale_domain_0_100_range_0_1>, callable_=<function luminance_CIE1976>),\n",
       "                False,\n",
       "                False)"
      ]
     },
     "execution_count": null,
     "metadata": {},
     "output_type": "execute_result"
    }
   ],
   "source": [
    "ECI_RGB_V2 = colour.models.RGB_COLOURSPACE_ECI_RGB_V2\n",
    "ECI_RGB_V2"
   ]
  },
  {
   "cell_type": "code",
   "execution_count": null,
   "id": "d8cc558f-823c-4e22-a3af-7c4091d2ea91",
   "metadata": {},
   "outputs": [
    {
     "data": {
      "text/plain": [
       "array([ 0.91978313,  0.95560747,  0.7778276 ])"
      ]
     },
     "execution_count": null,
     "metadata": {},
     "output_type": "execute_result"
    }
   ],
   "source": [
    "XYZ = colour.RGB_to_XYZ(patch_RGBs[0], ECI_RGB_V2)\n",
    "XYZ"
   ]
  },
  {
   "cell_type": "code",
   "execution_count": null,
   "id": "cab9be0c-124d-421e-bcfc-2c4321babd6d",
   "metadata": {},
   "outputs": [
    {
     "data": {
      "text/plain": [
       "array([ 0.85375115,  0.88956797,  0.70881122])"
      ]
     },
     "execution_count": null,
     "metadata": {},
     "output_type": "execute_result"
    }
   ],
   "source": [
    "XYZ = colour.RGB_to_XYZ(patch_RGBs[0], ECI_RGB_V2, apply_cctf_decoding=True)\n",
    "XYZ"
   ]
  },
  {
   "cell_type": "code",
   "execution_count": null,
   "id": "a20aa081-41ef-4eba-a729-ac2c44c1627f",
   "metadata": {},
   "outputs": [],
   "source": [
    "#|export \n",
    "\n",
    "import skimage as sk\n",
    "import matplotlib.pyplot as plt\n",
    "import numpy as np \n",
    "import scipy.signal as ssg\n",
    "import colour "
   ]
  },
  {
   "cell_type": "code",
   "execution_count": null,
   "id": "1deb6183-49ce-4bb3-9410-ff0caaf5dfb7",
   "metadata": {},
   "outputs": [],
   "source": [
    "#|export \n",
    "\n",
    "def extract_color_patches(tif_file, nrows=10, ncols=14, make_plot=True): \n",
    "\n",
    "    # STEP 1: Read tif file and convert to float64  \n",
    "    im_16bit = sk.io.imread(tif_file)\n",
    "    im = sk.util.img_as_float64(im_16bit)\n",
    "    \n",
    "    # STEP 2: Convert to gray scale \n",
    "    im_grey = im.mean(axis=2)\n",
    "    \n",
    "    hist, bins = np.histogram(im_grey.flatten(), bins=200)\n",
    "    bin_centers = bins[:-1] + (bins[1] - bins[0]) / 2 \n",
    "    \n",
    "    # STEP 3: determine histogram based threshold for white patches \n",
    "    peak_idxs = ssg.find_peaks(hist)[0]\n",
    "    grey, white = bin_centers[peak_idxs][-2:]\n",
    "    thresh = (grey + white) / 2 \n",
    "    \n",
    "    # STEP 4: label white connected regions \n",
    "    is_white_regions = im_grey > thresh\n",
    "    labeled_regions =sk.measure.label(is_white_regions)\n",
    "    \n",
    "    # STEP 5: select 15 largest white patch regions and create mask \n",
    "    region_props = sk.measure.regionprops_table(labeled_regions, properties=['label', 'area'])\n",
    "    areas = region_props['area'] \n",
    "    labels = region_props['label']\n",
    "    \n",
    "    min_patch_area = 0.9 * areas.max() \n",
    "    is_white_patch = areas > min_patch_area \n",
    "    white_patch_areas = areas[is_white_patch]\n",
    "    \n",
    "    assert len(white_patch_areas) == 15, 'Could not locate 15 white patch regions in image' \n",
    "    \n",
    "    white_patches_mask = np.zeros_like(im_grey, dtype=int)\n",
    "    for l in labels[is_white_patch]: \n",
    "        white_patches_mask[labeled_regions == l] = 1\n",
    "    \n",
    "    # STEP 6: locate white corner patches \n",
    "    labeled_patches = sk.measure.label(white_patches_mask)\n",
    "    patch_props = sk.measure.regionprops_table(labeled_patches, properties=['label', 'centroid', 'bbox'])\n",
    "    cy = patch_props['centroid-0']\n",
    "    cx = patch_props['centroid-1'] \n",
    "    cxy = np.c_[cx, cy]\n",
    "    \n",
    "    # canvas bounding box (clockwise)\n",
    "    bx0, bx1 = np.min(cx), np.max(cx)\n",
    "    by0, by1 = np.min(cy), np.max(cy)\n",
    "    canvas_bbox = np.array([[bx0, by0], [bx1, by0], [bx1, by1], [bx0, by1]])  \n",
    "    \n",
    "    # locate corner patch centroids \n",
    "    cc_idxs = [] \n",
    "    for b_xy in canvas_bbox: \n",
    "        dist = np.linalg.norm(cxy - b_xy, axis=1) \n",
    "        i_nn = np.argmin(dist) \n",
    "        cc_idxs.append(i_nn) \n",
    "    \n",
    "    corners_xy = cxy[cc_idxs]\n",
    "    \n",
    "    # STEP 7: also determine patch core radius \n",
    "    min_row = patch_props['bbox-0']\n",
    "    min_col= patch_props['bbox-1']\n",
    "    max_row = patch_props['bbox-2']\n",
    "    max_col = patch_props['bbox-3']\n",
    "    \n",
    "    height = np.min(max_row - min_row)\n",
    "    width = np.min(max_col - min_col)\n",
    "    delta = np.min([width, height])\n",
    "    radius = int(0.4 * delta)\n",
    "    \n",
    "    # STEP 8: build patch grid \n",
    "    top_left, top_right, bottom_right, bottom_left = corners_xy\n",
    "    \n",
    "    left = _interpoints(top_left, bottom_left, nrows)\n",
    "    right = _interpoints(top_right, bottom_right, nrows)\n",
    "    \n",
    "    grid_xy = []\n",
    "    \n",
    "    for xy0, xy1 in zip(left, right): \n",
    "        xy_pts = _interpoints(xy0, xy1, ncols) \n",
    "        grid_xy.append(xy_pts)\n",
    "    \n",
    "    grid_xy = np.array(grid_xy)\n",
    "    grid_list = grid_xy.reshape([nrows * ncols, 2]) \n",
    "    \n",
    "    rectangles = _make_rectangles(grid_list, radius)  \n",
    "    \n",
    "    patch_RGBs = _extract_RGBs(im, rectangles)\n",
    "    \n",
    "    if make_plot:  \n",
    "        _plot(rectangles, patch_RGBs)\n",
    "    \n",
    "    return rectangles, patch_RGBs\n",
    "\n",
    "def _interpoints(xy0, xy1, n_pts): \n",
    "    \n",
    "    x0, y0 = xy0\n",
    "    x1, y1 = xy1 \n",
    "\n",
    "    x_pts = np.linspace(x0, x1, n_pts)\n",
    "    y_pts = np.linspace(y0, y1, n_pts) \n",
    "    xy_pts = np.c_[x_pts, y_pts]\n",
    "\n",
    "    return xy_pts \n",
    "\n",
    "def _make_rectangles(grid_list, radius, ax=None): \n",
    "\n",
    "    n = len(grid_list)\n",
    "    w = radius * 2 \n",
    "    xy0_list = np.round(grid_list).astype(int) - radius \n",
    "    widths = np.ones(n, dtype=int) * w \n",
    "    \n",
    "    rectangles = np.c_[xy0_list, widths]\n",
    "    \n",
    "    # add rectangles to figure axis \n",
    "    if ax is not None: \n",
    "        for xy0 in xy0_list: \n",
    "            ax.add_patch(plt.Rectangle(xy0, w, w, edgecolor='r', facecolor='none'))\n",
    "            \n",
    "        \n",
    "    return rectangles\n",
    "\n",
    "def _extract_RGBs(im, rectangles): \n",
    "    '''Extract mean RGB values for patch rectangles. '''\n",
    "\n",
    "    patch_images = [im[y0:y0+w+1, x0:x0+w+1] for x0, y0, w in rectangles] \n",
    "    patch_RGBs = np.array([p.reshape(-1, 3).mean(axis=0).tolist() for p in patch_images]) \n",
    "\n",
    "    return patch_RGBs \n",
    "\n",
    "def _plot(rectangles, patch_RGBs):\n",
    "    '''Create plot with color patches. '''\n",
    "\n",
    "    fig, axs = plt.subplots(nrows=10, ncols=14, figsize=[10, 8])\n",
    "\n",
    "    axs = axs.flatten()\n",
    "    \n",
    "    for i, rgb in enumerate(patch_RGBs): \n",
    "        axs[i].set_facecolor(rgb)\n",
    "        axs[i].set_xticks([])\n",
    "        axs[i].set_yticks([]) \n",
    "    \n",
    "    letters = 'ABCDEFGHIJKLMN'\n",
    "    \n",
    "    for i in range(14): \n",
    "        axs[i].set_title(letters[i]) \n",
    "    \n",
    "    for j in range(10): \n",
    "        axs[j*14].set_ylabel(f'{j+1}   ', rotation=0, loc='center', fontsize=12, va='center') \n"
   ]
  }
 ],
 "metadata": {
  "kernelspec": {
   "display_name": "python3",
   "language": "python",
   "name": "python3"
  }
 },
 "nbformat": 4,
 "nbformat_minor": 5
}
