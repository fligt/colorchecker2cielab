{
 "cells": [
  {
   "cell_type": "raw",
   "metadata": {},
   "source": [
    "---\n",
    "skip_exec: true\n",
    "---"
   ]
  },
  {
   "cell_type": "markdown",
   "metadata": {},
   "source": [
    "# Welcome to colorchecker2cielab\n",
    "\n",
    "> Extract cielab values from a TIF image of a Digital Colorchecker SG target"
   ]
  },
  {
   "cell_type": "markdown",
   "metadata": {},
   "source": [
    "Professional photographers working for cultural heritage institutions take effort to produce color calibrated images. This is achieved by photographing a standard color target and accordingly adjust color values of subsequent images taken with the same camera + lights setup. This process is called color management. Due to the complexity of color management it is quite possible to make a mistake. For this reason, it is important to have the possibility to check if the color values of the color managed TIF image of the color target are in agreement with the tabulated values for the color target. Until recently an online service provided by [Picturae](https://picturae.com/en/) was available to photographers to upload their TIF images for such a check. Unfortunately this service is no longer available. \n",
    "\n",
    "This tiny python package `colorchecker2cielab` with a long name is developed to provide a quick way to automatically extract CIELAB color values from a TIF image of a [Digital Colorchecker SG](https://www.xrite.com/categories/calibration-profiling/colorchecker-digital-sg) target. \n",
    "\n",
    "This package is under development. Documentation can already be found [here](https://fligt.github.io/colorchecker2cielab/). "
   ]
  }
 ],
 "metadata": {
  "kernelspec": {
   "display_name": "python3",
   "language": "python",
   "name": "python3"
  }
 },
 "nbformat": 4,
 "nbformat_minor": 4
}
