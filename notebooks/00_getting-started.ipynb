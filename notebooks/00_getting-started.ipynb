{
 "cells": [
  {
   "cell_type": "markdown",
   "metadata": {},
   "source": [
    "# Getting started with Python  \n",
    "\n",
    "> Up and running in 5 minutes..."
   ]
  },
  {
   "attachments": {},
   "cell_type": "markdown",
   "metadata": {},
   "source": [
    "In order to make full use of `colorchecker2cielab`, you need to be able to install Python packages and run Python code in Jupyter notebooks on your computer. The quickest and easiest way to get started with Jupyter notebooks is by downloading and installing the JupyterLab Desktop (JLD) installer for your operating system from the [official github repository](https://github.com/jupyterlab/jupyterlab-desktop#installation)."
   ]
  },
  {
   "cell_type": "markdown",
   "metadata": {},
   "source": [
    "![](https://github.com/jupyterlab/jupyterlab-desktop/raw/master/media/jupyterlab-desktop.png)"
   ]
  },
  {
   "cell_type": "markdown",
   "metadata": {},
   "source": [
    "::: {.callout-note}\n",
    "The first time you start JupyterLab Desktop you additionally need to install the default Python environment from the start menu. **To do so you need to hoover and click on the word 'install' on the bottom of the start up screen.**  \n",
    "\n",
    ":::\n",
    " \n",
    "Finally you can install or update (with the `-U` option) the `colorchecker2cielab` package from the Python Package index [pypi.org](https://pypi.org/project/colorchecker2cielab/) by executing [this command](https://github.com/jupyterlab/jupyterlab-desktop/blob/master/user-guide.md#installing-new-python-packages) from a code cell in a Jupyter notebook: \n",
    "\n",
    "    %pip install -U colorchecker2cielab \n",
    "\n",
    "For more information about JupyterLab Desktop see the [JLD user guide](https://github.com/jupyterlab/jupyterlab-desktop/blob/master/user-guide.md). \n",
    "\n",
    "**That is it! You now are ready to open up your extract your CIELAB values!** "
   ]
  }
 ],
 "metadata": {
  "kernelspec": {
   "display_name": "python3",
   "language": "python",
   "name": "python3"
  }
 },
 "nbformat": 4,
 "nbformat_minor": 4
}
