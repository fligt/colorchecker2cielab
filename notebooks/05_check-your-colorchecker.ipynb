{
 "cells": [
  {
   "cell_type": "raw",
   "id": "cc57d7ef-c084-4c76-98a4-c078537cf13f",
   "metadata": {},
   "source": [
    "---\n",
    "skip_exec: true\n",
    "---"
   ]
  },
  {
   "cell_type": "code",
   "execution_count": null,
   "id": "76e12aeb-aca7-41c9-ab09-a0582b83238c",
   "metadata": {},
   "outputs": [],
   "source": [
    "#|default_exp extractor"
   ]
  },
  {
   "cell_type": "markdown",
   "id": "fd561f4f-2589-4d43-82b1-a0835d32db1e",
   "metadata": {},
   "source": [
    "# Check your Colorchecker \n",
    "\n",
    "> Extract color patches CIELAB values in one step  "
   ]
  },
  {
   "cell_type": "markdown",
   "id": "ff286fe3-9cda-4c1d-99c2-3d97ca7d18b7",
   "metadata": {},
   "source": [
    "If all you need is just to extract CIELAB values from your TIF image, the `colorchecker2cielab` package provides two quick ways to do so. The first way requires you to open a Jupyter notebook, import the `cielab_extractor()` function and run the command.  The table with 140 CIELAB values is saved to an excel file in the same folder as the tif file.  "
   ]
  },
  {
   "cell_type": "code",
   "execution_count": null,
   "id": "3f098ea2-cc37-4623-9cf0-6a4c1f709d75",
   "metadata": {},
   "outputs": [],
   "source": [
    "from colorchecker2cielab import cielab_extractor "
   ]
  },
  {
   "cell_type": "code",
   "execution_count": null,
   "id": "f063d844-d2eb-423b-85fe-0ccb5f03ce4e",
   "metadata": {},
   "outputs": [
    {
     "name": "stdout",
     "output_type": "stream",
     "text": [
      "Writing Colorchecker CIELAB values to excel file: \n",
      "'/home/frank/Work/DATA/colorchecker2cielab-data/sk-C-1833_135MB_CIELABs.xlsx'\n",
      "\n"
     ]
    }
   ],
   "source": [
    "tif_file = '/home/frank/Work/DATA/colorchecker2cielab-data/sk-C-1833_135MB.tif' \n",
    "LABs = cielab_extractor(tif_file)"
   ]
  },
  {
   "cell_type": "markdown",
   "id": "c4e093d8-8180-4763-a76c-a51c9ef06996",
   "metadata": {},
   "source": [
    "The second way to achieve this is even more simple. All you need is to open a terminal from the folder with the tif file run the `cielab_extractor` command with the name of the tif file that you want ato analyze. \n",
    "\n",
    "    $ cielab_extractor sk-C-1833_135MB.tif"
   ]
  },
  {
   "cell_type": "markdown",
   "id": "f5c95d2a-c8f4-420a-b17b-6816aa5ea8cc",
   "metadata": {},
   "source": [
    "That is all. If you are curious how all this works, then read the next sections. "
   ]
  },
  {
   "cell_type": "code",
   "execution_count": null,
   "id": "81309b5b-8676-4a8d-ad56-67afc2a6f10f",
   "metadata": {},
   "outputs": [],
   "source": [
    "#|export \n",
    "from colorchecker2cielab import extract_color_patches, RGBs_to_LABs \n",
    "import pandas as pd \n",
    "import re \n",
    "import sys \n",
    "import os "
   ]
  },
  {
   "cell_type": "code",
   "execution_count": null,
   "id": "9f9b0947-df90-4111-b9fe-f8b805136397",
   "metadata": {},
   "outputs": [],
   "source": [
    "#|export \n",
    "def cielab_extractor(tif_file, write_excel=True):\n",
    "    '''Extract RGB values from color patches and convert to CIELAB values table. '''  \n",
    "\n",
    "    rectangles, RGBs = extract_color_patches(tif_file, make_plot=False) \n",
    "    LABs = RGBs_to_LABs(RGBs)\n",
    "\n",
    "    if write_excel: \n",
    "        xlsx_file = re.sub('\\.tif$', '_CIELABs.xlsx', tif_file, flags=re.IGNORECASE)\n",
    "        print(f\"Writing Colorchecker CIELAB values to excel file: \\n'{xlsx_file}'\\n\")\n",
    "        LABs.to_excel(xlsx_file)\n",
    "    \n",
    "    return LABs   "
   ]
  },
  {
   "cell_type": "code",
   "execution_count": null,
   "id": "a3db317a-37eb-4291-a815-02f7c1c5245a",
   "metadata": {},
   "outputs": [],
   "source": [
    "#|export \n",
    "def _console_cielab_extractor(): \n",
    "    '''Console command to extract CIELAB values.'''\n",
    "\n",
    "    tif_file = sys.argv[-1] \n",
    "\n",
    "    if not os.path.exists(tif_file): \n",
    "        print(f'Error: \\'{tif_file}\\' does not exist. Please provide valid file path to your tif file.')\n",
    "    else: \n",
    "        cielab_extractor(tif_file, write_excel=True)\n",
    "        \n",
    "    return \n",
    "    "
   ]
  },
  {
   "cell_type": "code",
   "execution_count": null,
   "id": "48fe127f-355d-4a1f-ba11-391a26906420",
   "metadata": {},
   "outputs": [],
   "source": []
  }
 ],
 "metadata": {
  "kernelspec": {
   "display_name": "python3",
   "language": "python",
   "name": "python3"
  }
 },
 "nbformat": 4,
 "nbformat_minor": 5
}
